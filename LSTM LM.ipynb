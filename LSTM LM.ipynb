{
 "cells": [
  {
   "attachments": {},
   "cell_type": "markdown",
   "metadata": {},
   "source": [
    "# Recurrent Neural Networks and Language Models\n",
    "\n",
    "You guys probably very excited about ChatGPT.  In today class, we will be implementing a very simple language model, which is basically what ChatGPT is, but with a simple LSTM.  You will be surprised that it is not so difficult at all.\n",
    "\n",
    "Paper that we base on is *Regularizing and Optimizing LSTM Language Models*, https://arxiv.org/abs/1708.02182"
   ]
  },
  {
   "cell_type": "code",
   "execution_count": 16,
   "metadata": {
    "tags": []
   },
   "outputs": [],
   "source": [
    "import torch\n",
    "import torch.nn as nn\n",
    "import torch.optim as optim\n",
    "import torchtext, datasets, math"
   ]
  },
  {
   "cell_type": "code",
   "execution_count": 17,
   "metadata": {},
   "outputs": [
    {
     "name": "stderr",
     "output_type": "stream",
     "text": [
      "Using custom data configuration codeparrot--github-jupyter-code-to-text-cf9b56d996fd17e1\n",
      "Found cached dataset parquet (/root/.cache/huggingface/datasets/codeparrot___parquet/codeparrot--github-jupyter-code-to-text-cf9b56d996fd17e1/0.0.0/2a3b91fbd88a2c90d1dbbb32b460cf621d31bd5b05b934492fdef7d8d6f236ec)\n",
      "Using custom data configuration codeparrot--github-jupyter-code-to-text-cf9b56d996fd17e1\n",
      "Found cached dataset parquet (/root/.cache/huggingface/datasets/codeparrot___parquet/codeparrot--github-jupyter-code-to-text-cf9b56d996fd17e1/0.0.0/2a3b91fbd88a2c90d1dbbb32b460cf621d31bd5b05b934492fdef7d8d6f236ec)\n"
     ]
    }
   ],
   "source": [
    "from datasets import load_dataset\n",
    "\n",
    "# Download the dataset, load_dataset function is coming from datasets library which provided by codeparrot.\n",
    "train = load_dataset(\"codeparrot/github-jupyter-code-to-text\", split=\"train\")\n",
    "test = load_dataset(\"codeparrot/github-jupyter-code-to-text\", split=\"test\")"
   ]
  },
  {
   "cell_type": "code",
   "execution_count": 18,
   "metadata": {},
   "outputs": [
    {
     "data": {
      "text/plain": [
       "Dataset({\n",
       "    features: ['repo_name', 'path', 'license', 'content'],\n",
       "    num_rows: 47452\n",
       "})"
      ]
     },
     "execution_count": 18,
     "metadata": {},
     "output_type": "execute_result"
    }
   ],
   "source": [
    "# Check the features.\n",
    "train"
   ]
  },
  {
   "cell_type": "code",
   "execution_count": 19,
   "metadata": {},
   "outputs": [
    {
     "name": "stdout",
     "output_type": "stream",
     "text": [
      "import numpy as np\n",
      "from tensorflow import keras\n",
      "from tensorflow.keras import layers\n",
      "\n",
      "\"\"\"\n",
      "Explanation: Simple MNIST convnet\n",
      "Author: fchollet<br>\n",
      "Date created: 2015/06/19<br>\n",
      "Last modified: 2020/04/21<br>\n",
      "Description: A simple convnet that achieves ~99% test accuracy on MNIST.\n",
      "Setup\n",
      "End of explanation\n",
      "\"\"\"\n",
      "\n",
      "\n",
      "# Model / data parameters\n",
      "num_classes = 10\n",
      "input_shape = (28, 28, 1)\n",
      "\n",
      "# the data, split between train and test sets\n",
      "(x_train, y_train), (x_test, y_test) = keras.datasets.mnist.load_data()\n",
      "\n",
      "# Scale images to the [0, 1] range\n",
      "x_train = x_train.astype(\"float32\") / 255\n",
      "x_test = x_test.astype(\"float32\") / 255\n",
      "# Make sure images have shape (28, 28, 1)\n",
      "x_train = np.expand_dims(x_train, -1)\n",
      "x_test = np.expand_dims(x_test, -1)\n",
      "print(\"x_train shape:\", x_train.shape)\n",
      "print(x_train.shape[0], \"train samples\")\n",
      "print(x_test.shape[0], \"test samples\")\n",
      "\n",
      "\n",
      "# convert class vectors to binary class matrices\n",
      "y_train = keras.utils.to_categorical(y_train, num_classes)\n",
      "y_test = keras.utils.to_categorical(y_test, num_classes)\n",
      "\n",
      "\"\"\"\n",
      "Explanation: Prepare the data\n",
      "End of explanation\n",
      "\"\"\"\n",
      "\n",
      "\n",
      "model = keras.Sequential(\n",
      "    [\n",
      "        keras.Input(shape=input_shape),\n",
      "        layers.Conv2D(32, kernel_size=(3, 3), activation=\"relu\"),\n",
      "        layers.MaxPooling2D(pool_size=(2, 2)),\n",
      "        layers.Conv2D(64, kernel_size=(3, 3), activation=\"relu\"),\n",
      "        layers.MaxPooling2D(pool_size=(2, 2)),\n",
      "        layers.Flatten(),\n",
      "        layers.Dropout(0.5),\n",
      "        layers.Dense(num_classes, activation=\"softmax\"),\n",
      "    ]\n",
      ")\n",
      "\n",
      "model.summary()\n",
      "\n",
      "\"\"\"\n",
      "Explanation: Build the model\n",
      "End of explanation\n",
      "\"\"\"\n",
      "\n",
      "\n",
      "batch_size = 128\n",
      "epochs = 15\n",
      "\n",
      "model.compile(loss=\"categorical_crossentropy\", optimizer=\"adam\", metrics=[\"accuracy\"])\n",
      "\n",
      "model.fit(x_train, y_train, batch_size=batch_size, epochs=epochs, validation_split=0.1)\n",
      "\n",
      "\"\"\"\n",
      "Explanation: Train the model\n",
      "End of explanation\n",
      "\"\"\"\n",
      "\n",
      "\n",
      "score = model.evaluate(x_test, y_test, verbose=0)\n",
      "print(\"Test loss:\", score[0])\n",
      "print(\"Test accuracy:\", score[1])\n",
      "\n",
      "\"\"\"\n",
      "Explanation: Evaluate the trained model\n",
      "End of explanation\n",
      "\"\"\"\n",
      "\n",
      "\n",
      "\n"
     ]
    }
   ],
   "source": [
    "# Peek at how sample looks\n",
    "# Look good.\n",
    "\n",
    "datasets_sample = train[\"content\"][0]\n",
    "print(datasets_sample)"
   ]
  },
  {
   "cell_type": "code",
   "execution_count": 28,
   "metadata": {},
   "outputs": [],
   "source": [
    "# In one sample there are more than one sentences, if we directly put it into tokenizer \n",
    "# it will exceed the range so we need to transform it a bit.\n",
    "\n",
    "train_transform = list()\n",
    "test_transform = list()\n",
    "\n",
    "# Transform the train data\n",
    "for text in train[\"content\"]:\n",
    "    for sent in text.split(\"\\n\"):\n",
    "        if sent == \"\":\n",
    "            pass\n",
    "        else:\n",
    "            train_transform.append(sent)\n",
    "\n",
    "# Transform the test data\n",
    "for text in test[\"content\"]:\n",
    "    for sent in text.split(\"\\n\"):\n",
    "        if sent == \"\":\n",
    "            pass\n",
    "        else:\n",
    "            test_transform.append(sent)\n"
   ]
  },
  {
   "cell_type": "code",
   "execution_count": 29,
   "metadata": {},
   "outputs": [
    {
     "name": "stdout",
     "output_type": "stream",
     "text": [
      "import numpy as np\n",
      "11367363\n"
     ]
    }
   ],
   "source": [
    "# Check the transform data\n",
    "print(train_transform[0])\n",
    "print(len(train_transform))\n"
   ]
  },
  {
   "cell_type": "code",
   "execution_count": 32,
   "metadata": {},
   "outputs": [],
   "source": [
    "from transformers import AutoTokenizer\n",
    "\n",
    "# Load codeparrot tokenizer trained for Python code tokenization\n",
    "tokenizer = AutoTokenizer.from_pretrained(\"gpt2\")\n",
    "tokenized_dataset = tokenizer(train_transform)"
   ]
  }
 ],
 "metadata": {
  "kernelspec": {
   "display_name": "Python 3",
   "language": "python",
   "name": "python3"
  },
  "language_info": {
   "codemirror_mode": {
    "name": "ipython",
    "version": 3
   },
   "file_extension": ".py",
   "mimetype": "text/x-python",
   "name": "python",
   "nbconvert_exporter": "python",
   "pygments_lexer": "ipython3",
   "version": "3.10.6"
  },
  "vscode": {
   "interpreter": {
    "hash": "916dbcbb3f70747c44a77c7bcd40155683ae19c65e1c03b4aa3499c5328201f1"
   }
  }
 },
 "nbformat": 4,
 "nbformat_minor": 4
}
